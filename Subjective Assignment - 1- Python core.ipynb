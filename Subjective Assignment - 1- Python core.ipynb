{
 "cells": [
  {
   "cell_type": "markdown",
   "metadata": {},
   "source": [
    "Q1. Write a Python program to get the string from the given string where\n",
    "all the occurrence of its first char has been changed to '$,' except first\n",
    "char itself?\n",
    "\n",
    "    Sample String: 'prospect'\n",
    "    Expected Result : 'pros$ect'\n"
   ]
  },
  {
   "cell_type": "code",
   "execution_count": 1,
   "metadata": {},
   "outputs": [
    {
     "name": "stdout",
     "output_type": "stream",
     "text": [
      "enter a stringprospecgt\n",
      "pros$ecgt\n"
     ]
    }
   ],
   "source": [
    "in_string = input('enter a string')\n",
    "a = in_string[0]\n",
    "b = in_string[1:]\n",
    "for i in b:\n",
    "    if i == a:\n",
    "        x = in_string[1:].replace(a,'$')\n",
    "        \n",
    "    else:\n",
    "        continue\n",
    "print(a,x,sep='')"
   ]
  },
  {
   "cell_type": "markdown",
   "metadata": {},
   "source": [
    "Q2. Write a Python program to get the single string from the two given\n",
    "strings, and separated by the space and swap the first two characters of\n",
    "each string?\n",
    "\n",
    "    Sample String : 'abc', 'xyz'.\n",
    "    Expected Result: 'xyc abz'"
   ]
  },
  {
   "cell_type": "code",
   "execution_count": 27,
   "metadata": {},
   "outputs": [
    {
     "name": "stdout",
     "output_type": "stream",
     "text": [
      "xyz  abc  "
     ]
    }
   ],
   "source": [
    "x,b = 'abc','xyz'\n",
    "for i in b,x:\n",
    "    print(i,end = '  ')"
   ]
  },
  {
   "cell_type": "code",
   "execution_count": 42,
   "metadata": {},
   "outputs": [
    {
     "name": "stdout",
     "output_type": "stream",
     "text": [
      "abz xyc\n"
     ]
    }
   ],
   "source": [
    "x = 'abc'\n",
    "b = 'xyz'\n",
    "print(x[:2]+b[-1],b[:2]+x[-1])\n"
   ]
  },
  {
   "cell_type": "markdown",
   "metadata": {},
   "source": [
    "Q3. Write the Python program to add 'ing' at the end of the given string\n",
    "(length of the string should be at least 3). If given string already ends\n",
    "with 'ing,' then add 'ly' instead. If string length of the given string is less\n",
    "than 3, leave it unchanged?\n",
    "\n",
    "\n",
    "    Sample string: ' abc '\n",
    "    Expected result: ' abcing '\n",
    "    Sample string: ' string '\n",
    "    Expected result: ' stringly '\n"
   ]
  },
  {
   "cell_type": "code",
   "execution_count": 19,
   "metadata": {},
   "outputs": [
    {
     "name": "stdout",
     "output_type": "stream",
     "text": [
      "enter a sample string of length 3\n",
      "abcing\n",
      "abcingly\n"
     ]
    }
   ],
   "source": [
    "sample = input(\"enter a sample string of length 3\\n\")\n",
    "if len(sample)==3:\n",
    "    print(sample+'ing')\n",
    "elif len(sample)>3:\n",
    "    if (sample[-3:] == 'ing'):\n",
    "        a = sample+'ly'\n",
    "        print(a)\n",
    "    else:\n",
    "        a = sample+'ing'\n",
    "        print(a)"
   ]
  },
  {
   "cell_type": "markdown",
   "metadata": {},
   "source": [
    "Q4. Write the Python program to find the first appearance of the\n",
    "substring 'not' and 'poor' from the given string, if 'not' follows the 'poor',\n",
    "replace the whole 'not'...' poor' substring with 'good'.Return the resulting\n",
    "string.\n",
    "\n",
    "    Sample string: 'The lyrics are not that poor!'\n",
    "    'The lyrics are poor!'\n",
    "    Expected Result: 'The lyrics are good!'\n",
    "    'The lyrics are poor!'"
   ]
  },
  {
   "cell_type": "code",
   "execution_count": 29,
   "metadata": {},
   "outputs": [
    {
     "name": "stdout",
     "output_type": "stream",
     "text": [
      "The lyrics are good!\n"
     ]
    }
   ],
   "source": [
    "sample = 'The lyrics are not that poor!'\n",
    "no = sample.find('not')\n",
    "poor = sample.find('poor')\n",
    "if (poor>no and no>0 and poor>0):\n",
    "    sample = sample.replace(sample[no:poor+4],'good')\n",
    "    print(sample)\n",
    "else:\n",
    "    print('the lyrics are poor')"
   ]
  },
  {
   "cell_type": "markdown",
   "metadata": {},
   "source": [
    "Q5. Write the Python program to remove the characters which have odd\n",
    "index values of a given string."
   ]
  },
  {
   "cell_type": "code",
   "execution_count": 36,
   "metadata": {},
   "outputs": [
    {
     "name": "stdout",
     "output_type": "stream",
     "text": [
      "enter a string0123456\n"
     ]
    },
    {
     "data": {
      "text/plain": [
       "'0246'"
      ]
     },
     "execution_count": 36,
     "metadata": {},
     "output_type": "execute_result"
    }
   ],
   "source": [
    "sample = input('enter a string')\n",
    "sample[::2]"
   ]
  },
  {
   "cell_type": "markdown",
   "metadata": {},
   "source": [
    "Q6. Write the python program to print the following floating numbers up\n",
    "to 2 decimal places?"
   ]
  },
  {
   "cell_type": "code",
   "execution_count": 73,
   "metadata": {},
   "outputs": [
    {
     "name": "stdout",
     "output_type": "stream",
     "text": [
      "formatted to 2 decimals:4.12\n"
     ]
    }
   ],
   "source": [
    "a = 4.123231\n",
    "print('formatted to 2 decimals:'+'{:.2f}'.format(a))"
   ]
  },
  {
   "cell_type": "markdown",
   "metadata": {},
   "source": [
    "Q7. Write the Python program to format a number with a percentage?"
   ]
  },
  {
   "cell_type": "code",
   "execution_count": 39,
   "metadata": {},
   "outputs": [
    {
     "name": "stdout",
     "output_type": "stream",
     "text": [
      "Percentage formatted:  90.00%\n"
     ]
    }
   ],
   "source": [
    "num = 0.9\n",
    "print('Percentage formatted: '+' {:.2%}'.format(num))"
   ]
  },
  {
   "cell_type": "markdown",
   "metadata": {},
   "source": [
    "Q8. Write the Python program to count occurrences of a substring in a\n",
    "String?"
   ]
  },
  {
   "cell_type": "code",
   "execution_count": 96,
   "metadata": {},
   "outputs": [
    {
     "name": "stdout",
     "output_type": "stream",
     "text": [
      "1\n"
     ]
    }
   ],
   "source": [
    "a = 'hello world'\n",
    "print(a.count('he'))"
   ]
  },
  {
   "cell_type": "markdown",
   "metadata": {},
   "source": [
    "Q9. Write the Python program to count repeated characters in a string.\n",
    "\n",
    "    Sample string: ' thequickbrownjumpsoverthelazydog '\n",
    "    \n",
    "    Expected output:\n",
    "    o 3\n",
    "    e 3\n",
    "    u 2\n",
    "    h 2\n",
    "    r 2\n",
    "    t 2"
   ]
  },
  {
   "cell_type": "code",
   "execution_count": 152,
   "metadata": {},
   "outputs": [
    {
     "name": "stdout",
     "output_type": "stream",
     "text": [
      "t  2\n",
      "h  2\n",
      "e  3\n",
      "u  2\n",
      "r  2\n",
      "o  3\n"
     ]
    }
   ],
   "source": [
    "s = 'thequickbrownjumpsoverthelazydog'\n",
    "d={}\n",
    "for i in s:\n",
    "    d[i]=d.setdefault(i,0)+1\n",
    "for i,j in d.items():\n",
    "    if j>=2:\n",
    "        print(i,'' ,j)"
   ]
  },
  {
   "cell_type": "code",
   "execution_count": null,
   "metadata": {},
   "outputs": [],
   "source": []
  },
  {
   "cell_type": "markdown",
   "metadata": {},
   "source": [
    "Q10. Write the Python program to print the square and cube symbol in\n",
    "the area of a rectangle and volume of a cylinder?\n",
    "\n",
    "    Sample outputThe area of the rectangle is 1256.66cm2\n",
    "    The volume of the cylinder is 1254.725cm3\n"
   ]
  },
  {
   "cell_type": "code",
   "execution_count": 57,
   "metadata": {},
   "outputs": [
    {
     "name": "stdout",
     "output_type": "stream",
     "text": [
      "area of rectangle 1256.66cm²\n",
      "volume of cylinder 1254.725cm³\n"
     ]
    }
   ],
   "source": [
    "rectangle = 1256.66\n",
    "cylinder = 1254.725\n",
    "decimals = 2\n",
    "print('area of rectangle {0:.{1}f}cm\\u00b2'.format(rectangle,decimals))\n",
    "decimals = 3\n",
    "print('volume of cylinder {0:.{1}f}cm\\u00b3'.format(cylinder,decimals))"
   ]
  },
  {
   "cell_type": "markdown",
   "metadata": {},
   "source": [
    "Q11. Write the Python program to check if a string contains all letters of\n",
    "the alphabet?"
   ]
  },
  {
   "cell_type": "code",
   "execution_count": 68,
   "metadata": {},
   "outputs": [
    {
     "name": "stdout",
     "output_type": "stream",
     "text": [
      "enter a string to check letters in stringaja\n",
      "False\n"
     ]
    }
   ],
   "source": [
    "import string\n",
    "a = set(string.ascii_lowercase)\n",
    "in_string = input('enter a string to check letters in string')\n",
    "print(set(in_string.lower())>=a)"
   ]
  },
  {
   "cell_type": "markdown",
   "metadata": {},
   "source": [
    "Q12. Write the Python program to find the second most repeated word\n",
    "in a given string?"
   ]
  },
  {
   "cell_type": "code",
   "execution_count": 162,
   "metadata": {},
   "outputs": [
    {
     "name": "stdout",
     "output_type": "stream",
     "text": [
      "('pie', 2)\n"
     ]
    }
   ],
   "source": [
    "def count_w(str):\n",
    "    counts = dict()\n",
    "    words = str.split()\n",
    "    \n",
    "    for word in words:\n",
    "        if word in counts:\n",
    "            counts[word]+=1\n",
    "        else:\n",
    "            counts[word]=1\n",
    "        \n",
    "    counts_x = sorted(counts.items(),key = lambda kv:kv[1])\n",
    "    \n",
    "    return counts_x[-2]\n",
    "print(count_w('life is like a life of pie with a pie dipped in sauce  lap lap'))"
   ]
  },
  {
   "cell_type": "markdown",
   "metadata": {},
   "source": [
    "Q13. Write the Python program to find the minimum window in the given\n",
    "string, which will contains all the characters of another given\n",
    "strings?\n",
    "\n",
    "    Example 1\n",
    "    Input : string1 = \" PRWSOERIUSFK \"\n",
    "    string2 = \" OSU \"\n",
    "    Output: Minimum window is \"OERIUS\""
   ]
  },
  {
   "cell_type": "code",
   "execution_count": 10,
   "metadata": {},
   "outputs": [
    {
     "name": "stdout",
     "output_type": "stream",
     "text": [
      "enter the master string PRWSOERIUSFK \n",
      "enter the sub string OER\n",
      "WSOER\n"
     ]
    }
   ],
   "source": [
    "str1=input(\"enter the master string\")\n",
    "str2=input(\"enter the sub string \")\n",
    "list=[]\n",
    "for i in str2:\n",
    "    list.append(str1.index(i))\n",
    "list.sort()\n",
    "min=list[0]+1\n",
    "max=list[-1]+1\n",
    "print(str1[min:max+1])"
   ]
  },
  {
   "cell_type": "markdown",
   "metadata": {},
   "source": [
    "Q14. Write the Python program to count number of substrings from a\n",
    "given string of lowercase alphabets with exactly k distinct (given)\n",
    "characters?\n",
    "\n",
    "    Input a string (lowercase alphabets): wolf\n",
    "    Input k: 4\n",
    "    Number of substrings with exactly 4 distinct characters: 1"
   ]
  },
  {
   "cell_type": "code",
   "execution_count": 145,
   "metadata": {},
   "outputs": [
    {
     "name": "stdout",
     "output_type": "stream",
     "text": [
      "enter a string alibaba\n",
      "enter k value4\n",
      "7\n"
     ]
    }
   ],
   "source": [
    "a = input(\"enter a string \")\n",
    "sample = a.lower()\n",
    "k = int(input('enter k value'))\n",
    "\n",
    "sam_len = len(sample)\n",
    "res = 0\n",
    "count = 0*[27]\n",
    "\n",
    "for i in range(0,sam_len):\n",
    "    dis_count = 0\n",
    "    count = [0]*27\n",
    "    for j in range(i, sam_len):\n",
    "        if count[ord(sample[j])-97]==0:\n",
    "            dis_count +=1\n",
    "        count[ord(sample[j])-97]+=1\n",
    "        \n",
    "        if dis_count == k:\n",
    "            res +=1\n",
    "        elif dis_count>k:\n",
    "            break\n",
    "print(res)\n",
    "        "
   ]
  },
  {
   "cell_type": "markdown",
   "metadata": {},
   "source": [
    "Q15. Write the Python program to count number of substrings with same\n",
    "first and last characters of the given string?\n",
    "\n",
    "    Input a string: abcd\n",
    "    4\n"
   ]
  },
  {
   "cell_type": "code",
   "execution_count": 105,
   "metadata": {},
   "outputs": [
    {
     "name": "stdout",
     "output_type": "stream",
     "text": [
      "8\n"
     ]
    }
   ],
   "source": [
    "a = 'abcdefgd'\n",
    "count = 0\n",
    "for i in a:\n",
    "    count +=1\n",
    "print(count)"
   ]
  },
  {
   "cell_type": "code",
   "execution_count": null,
   "metadata": {},
   "outputs": [],
   "source": []
  },
  {
   "cell_type": "markdown",
   "metadata": {},
   "source": [
    "## Great Job!"
   ]
  }
 ],
 "metadata": {
  "kernelspec": {
   "display_name": "Python 3",
   "language": "python",
   "name": "python3"
  },
  "language_info": {
   "codemirror_mode": {
    "name": "ipython",
    "version": 3
   },
   "file_extension": ".py",
   "mimetype": "text/x-python",
   "name": "python",
   "nbconvert_exporter": "python",
   "pygments_lexer": "ipython3",
   "version": "3.7.4"
  }
 },
 "nbformat": 4,
 "nbformat_minor": 2
}
