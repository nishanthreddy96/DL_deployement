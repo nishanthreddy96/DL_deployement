{
 "cells": [
  {
   "cell_type": "markdown",
   "metadata": {},
   "source": [
    "# Assignment 4 Questions"
   ]
  },
  {
   "cell_type": "markdown",
   "metadata": {},
   "source": [
    "## Problem Statement"
   ]
  },
  {
   "cell_type": "markdown",
   "metadata": {},
   "source": [
    "Q.1 Given a sequence of n values x1, x2, ..., xn and a window size k>0, the k-th moving average of\n",
    "the given sequence is defined as follows:\n",
    "\n",
    "The moving average sequence has n-k+1 elements as shown below.\n",
    "The moving averages with k=4 of a ten-value sequence (n=10) is shown below\n",
    "\n",
    "    i 1 2 3 4 5 6 7 8 9 10\n",
    "    ===== == == == == == == == == == ==\n",
    "    Input 10 20 30 40 50 60 70 80 90 100\n",
    "    y1 25 = (10+20+30+40)/4\n",
    "    y2 35 = (20+30+40+50)/4\n",
    "    y3 45 = (30+40+50+60)/4\n",
    "    y4 55 = (40+50+60+70)/4\n",
    "    y5 65 = (50+60+70+80)/4\n",
    "    y6 75 = (60+70+80+90)/4\n",
    "    y7 85 = (70+80+90+100)/4\n",
    "\n",
    "Thus, the moving average sequence has n-k+1=10-4+1=7 values.\n",
    "\n",
    "Write a function to find moving average in an array over a window:\n",
    "\n",
    "Test it over [3, 5, 7, 2, 8, 10, 11, 65, 72, 81, 99, 100, 150] and window of 3."
   ]
  },
  {
   "cell_type": "code",
   "execution_count": 1,
   "metadata": {},
   "outputs": [
    {
     "name": "stdout",
     "output_type": "stream",
     "text": [
      "[4.25, 5.5, 6.75, 7.75, 23.5, 39.5, 57.25, 79.25, 88.0, 107.5]\n"
     ]
    }
   ],
   "source": [
    "l=[3, 5, 7, 2, 8, 10, 11, 65, 72, 81, 99, 100, 150]\n",
    "avgs=[]\n",
    "for four_nos in range(len(l)):\n",
    "    four_list=l[four_nos:four_nos+4]#this avg is a list that has four nos every time\n",
    "    sum=0\n",
    "    if four_nos+4>len(l):break\n",
    "    for No in four_list:\n",
    "        sum+=No\n",
    "    avg=sum/4\n",
    "    avgs.append(avg)\n",
    "print(avgs)"
   ]
  },
  {
   "cell_type": "code",
   "execution_count": null,
   "metadata": {},
   "outputs": [],
   "source": []
  },
  {
   "cell_type": "markdown",
   "metadata": {},
   "source": [
    "Q.2 How-to-count-distance-to-the-previous-zero\n",
    "For each value, count the difference back to the previous zero (or the start of the Series,\n",
    "whichever is closer)\n",
    "create a new column 'Y'\n",
    "Consider a DataFrame df where there is an integer column 'X'\n",
    "    \n",
    "    import pandas as pd\n",
    "    df = pd.DataFrame({'X': [7, 2, 0, 3, 4, 2, 5, 0, 3, 4]})"
   ]
  },
  {
   "cell_type": "code",
   "execution_count": 24,
   "metadata": {},
   "outputs": [
    {
     "name": "stdout",
     "output_type": "stream",
     "text": [
      "[1, 2, 0, 1, 2, 3, 4, 0, 1, 2]\n"
     ]
    }
   ],
   "source": [
    "import pandas as pd\n",
    "df = pd.DataFrame({'X': [7, 2, 0, 3, 4, 2, 5, 0, 3, 4]})\n",
    "df_s = df['X']\n",
    "final_list = []\n",
    "count = 0\n",
    "for i in df_s:\n",
    "    if i!=0:\n",
    "        count+=1\n",
    "    else:\n",
    "        count = 0\n",
    "    final_list.append(count)\n",
    "print(final_list)"
   ]
  },
  {
   "cell_type": "markdown",
   "metadata": {},
   "source": [
    "Q.3 Create a DatetimeIndex that contains each business day of 2015 and use it to index a Series of\n",
    "random numbers."
   ]
  },
  {
   "cell_type": "raw",
   "metadata": {},
   "source": []
  },
  {
   "cell_type": "code",
   "execution_count": 5,
   "metadata": {},
   "outputs": [
    {
     "data": {
      "text/plain": [
       "array([260, 259, 258, 257, 256, 255, 254, 253, 252, 251, 250, 249, 248,\n",
       "       247, 246, 245, 244, 243, 242, 241, 240, 239, 238, 237, 236, 235,\n",
       "       234, 233, 232, 231, 230, 229, 228, 227, 226, 225, 224, 223, 222,\n",
       "       221, 220, 219, 218, 217, 216, 215, 214, 213, 212, 211, 210, 209,\n",
       "       208, 207, 206, 205, 204, 203, 202, 201, 200, 199, 198, 197, 196,\n",
       "       195, 194, 193, 192, 191, 190, 189, 188, 187, 186, 185, 184, 183,\n",
       "       182, 181, 180, 179, 178, 177, 176, 175, 174, 173, 172, 171, 170,\n",
       "       169, 168, 167, 166, 165, 164, 163, 162, 161, 160, 159, 158, 157,\n",
       "       156, 155, 154, 153, 152, 151, 150, 149, 148, 147, 146, 145, 144,\n",
       "       143, 142, 141, 140, 139, 138, 137, 136, 135, 134, 133, 132, 131,\n",
       "       130, 129, 128, 127, 126, 125, 124, 123, 122, 121, 120, 119, 118,\n",
       "       117, 116, 115, 114, 113, 112, 111, 110, 109, 108, 107, 106, 105,\n",
       "       104, 103, 102, 101, 100,  99,  98,  97,  96,  95,  94,  93,  92,\n",
       "        91,  90,  89,  88,  87,  86,  85,  84,  83,  82,  81,  80,  79,\n",
       "        78,  77,  76,  75,  74,  73,  72,  71,  70,  69,  68,  67,  66,\n",
       "        65,  64,  63,  62,  61,  60,  59,  58,  57,  56,  55,  54,  53,\n",
       "        52,  51,  50,  49,  48,  47,  46,  45,  44,  43,  42,  41,  40,\n",
       "        39,  38,  37,  36,  35,  34,  33,  32,  31,  30,  29,  28,  27,\n",
       "        26,  25,  24,  23,  22,  21,  20,  19,  18,  17,  16,  15,  14,\n",
       "        13,  12,  11,  10,   9,   8,   7,   6,   5,   4,   3,   2,   1,\n",
       "         0])"
      ]
     },
     "execution_count": 5,
     "metadata": {},
     "output_type": "execute_result"
    }
   ],
   "source": [
    "import pandas as pd\n",
    "import numpy as np\n",
    "drange = pd.date_range('2015-01-01','2015-12-31',freq='B')\n",
    "timestamp = pd.Timestamp('2015-12-31','B')\n",
    "\n",
    "def astypes(drange,timestamp):\n",
    "    a = drange.values.astype('<M8[D]')\n",
    "    b = timestamp.asm8.astype('<M8[D]')\n",
    "    return np.busday_count(a,b)\n",
    "def datetimes(drange,timestamp):\n",
    "    a = [d.date() for d in drange]\n",
    "    b = pd.Timestamp('2015-12-31','B').date()\n",
    "    return np.busday_count(a,b)\n",
    "\n",
    "datetimes(drange,timestamp)"
   ]
  },
  {
   "cell_type": "code",
   "execution_count": null,
   "metadata": {},
   "outputs": [],
   "source": []
  },
  {
   "cell_type": "code",
   "execution_count": null,
   "metadata": {},
   "outputs": [],
   "source": []
  },
  {
   "cell_type": "markdown",
   "metadata": {},
   "source": [
    "Q.4 "
   ]
  },
  {
   "cell_type": "code",
   "execution_count": null,
   "metadata": {},
   "outputs": [],
   "source": []
  },
  {
   "cell_type": "code",
   "execution_count": null,
   "metadata": {},
   "outputs": [],
   "source": []
  }
 ],
 "metadata": {
  "kernelspec": {
   "display_name": "Python 3",
   "language": "python",
   "name": "python3"
  },
  "language_info": {
   "codemirror_mode": {
    "name": "ipython",
    "version": 3
   },
   "file_extension": ".py",
   "mimetype": "text/x-python",
   "name": "python",
   "nbconvert_exporter": "python",
   "pygments_lexer": "ipython3",
   "version": "3.7.4"
  }
 },
 "nbformat": 4,
 "nbformat_minor": 2
}
