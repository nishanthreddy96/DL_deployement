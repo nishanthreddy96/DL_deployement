{
 "cells": [
  {
   "cell_type": "markdown",
   "metadata": {},
   "source": [
    "# Assignments"
   ]
  },
  {
   "cell_type": "markdown",
   "metadata": {},
   "source": [
    "Q1. Write the Python function to get a string made of 4 copies of the last\n",
    "two characters of the specified string (length must be at least 2).\n",
    "\n",
    "    Sample function and result :\n",
    "    insert-end ('Python') -> abababab\n",
    "    insert-end('Exercises') -> jkjkjkjk"
   ]
  },
  {
   "cell_type": "code",
   "execution_count": 4,
   "metadata": {},
   "outputs": [
    {
     "name": "stdout",
     "output_type": "stream",
     "text": [
      "enter a string with length of 2alibaba\n",
      "babababa"
     ]
    }
   ],
   "source": [
    "def min_len_2(word):\n",
    "    sub_string = word[-2:]\n",
    "    count = 0 \n",
    "    if len(word)>2:\n",
    "        while count < 4:\n",
    "            print(sub_string,end = '')\n",
    "            count+=1\n",
    "    else:\n",
    "        print('lenght should be atleast 2')\n",
    "word = input('enter a string with length of 2')\n",
    "min_len_2(word)"
   ]
  },
  {
   "cell_type": "markdown",
   "metadata": {},
   "source": [
    "Q2. Write the python function to get a string made of its first three\n",
    "characters of a specified string. If the length of the string is less than 3\n",
    "then return the original string.\n",
    "    \n",
    "    Sample function and result :\n",
    "    first-three('ipy') -> ipy\n",
    "    first-three('python') -> pyt"
   ]
  },
  {
   "cell_type": "code",
   "execution_count": 6,
   "metadata": {},
   "outputs": [
    {
     "name": "stdout",
     "output_type": "stream",
     "text": [
      "enter a string python\n",
      "pyt\n"
     ]
    }
   ],
   "source": [
    "def first_3(word):\n",
    "    sub_string = word[:3]\n",
    "    if len(word)<3:\n",
    "        print(word)\n",
    "    else:\n",
    "        print(sub_string)\n",
    "\n",
    "word = input('enter a string ')\n",
    "first_3(word)"
   ]
  },
  {
   "cell_type": "markdown",
   "metadata": {},
   "source": [
    "Q3. Write the Python program to find smallest window that contains all\n",
    "characters of the given string?\n",
    "\n",
    "    Original Strings:\n",
    "    asdaewsqgtwwsa\n",
    "    Smallest window that contains all characters of the said string:\n",
    "    Daewsqgt"
   ]
  },
  {
   "cell_type": "code",
   "execution_count": 14,
   "metadata": {},
   "outputs": [
    {
     "name": "stdout",
     "output_type": "stream",
     "text": [
      "enter the master stringDaewsqgt\n",
      "enter the sub string Daewsqgt\n",
      "aewsqgt\n"
     ]
    }
   ],
   "source": [
    "str1=input(\"enter the master string\").lower()\n",
    "str2=input(\"enter the sub string \").lower()\n",
    "list=[]\n",
    "for i in str2:\n",
    "    list.append(str1.index(i))\n",
    "list.sort()\n",
    "min=list[0]+1\n",
    "max=list[-1]+1\n",
    "print(str1[min:max+1])"
   ]
  },
  {
   "cell_type": "markdown",
   "metadata": {},
   "source": [
    "Q4. Write the Python program to count number of substrings from a\n",
    "given string of lowercase alphabets with exactly k distinct (given)\n",
    "characters?\n",
    "\n",
    "    Input a string (lowercase alphabets): wolf\n",
    "    Input k: 4\n",
    "    Number of substrings with exactly 4 distinct characters: 1"
   ]
  },
  {
   "cell_type": "code",
   "execution_count": 19,
   "metadata": {},
   "outputs": [
    {
     "name": "stdout",
     "output_type": "stream",
     "text": [
      "enter a stringalibaba\n",
      "enter the k value3\n",
      "5\n"
     ]
    }
   ],
   "source": [
    "word = input('enter a string\\n').lower()\n",
    "k = int(input('enter the k value\\n'))\n",
    "word_len = len(word)\n",
    "res = 0\n",
    "count = 0*[27]\n",
    "for i in range(0,word_len):\n",
    "    dis_count = 0\n",
    "    count = [0]*27\n",
    "    for j in range(i,word_len):\n",
    "        if count[ord(word[j])-97]==0:\n",
    "            dis_count+=1\n",
    "        count[ord(word[j])-97]+=1\n",
    "        \n",
    "        if dis_count == k:\n",
    "            res+=1\n",
    "        elif dis_count>k:\n",
    "            break\n",
    "print(res)"
   ]
  },
  {
   "cell_type": "markdown",
   "metadata": {},
   "source": [
    "Q5. Write the Python program to count number of non-empty\n",
    "substrings of the given string?\n",
    "\n",
    "    Input a string: w3resource\n",
    "    Number of substrings:\n",
    "    55"
   ]
  },
  {
   "cell_type": "code",
   "execution_count": 25,
   "metadata": {},
   "outputs": [
    {
     "name": "stdout",
     "output_type": "stream",
     "text": [
      "enter a word to show count of substrings\n",
      "a b c d\n"
     ]
    },
    {
     "data": {
      "text/plain": [
       "28"
      ]
     },
     "execution_count": 25,
     "metadata": {},
     "output_type": "execute_result"
    }
   ],
   "source": [
    "word = input('enter a word to show count of substrings\\n')\n",
    "len_word = len(word)\n",
    "res = int((len_word*(len_word+1))/2)\n",
    "res"
   ]
  },
  {
   "cell_type": "markdown",
   "metadata": {},
   "source": [
    "Q6. Write the Python program to count the number of strings where the\n",
    "string length is 2 or more, and first and last character are same\n",
    "from a given list of strings.\n",
    "\n",
    "    Sample List : ['abc', 'xyz', 'wxw', '1331']\n",
    "    Expected Result: 2"
   ]
  },
  {
   "cell_type": "code",
   "execution_count": 41,
   "metadata": {},
   "outputs": [
    {
     "name": "stdout",
     "output_type": "stream",
     "text": [
      "['wxw', '1331'] The number of values selected are 2\n"
     ]
    }
   ],
   "source": [
    "word = ['abc', 'xyz', 'wxw', '1331']\n",
    "#input('enter strings to count number of strings')\n",
    "a = []\n",
    "for i in word:\n",
    "    if len(word)>2:\n",
    "        if i[0]==i[-1]:\n",
    "            a.append(i)\n",
    "    else:\n",
    "        print('enter values greater than 2')\n",
    "print(a,'The number of values selected are',len(a))"
   ]
  },
  {
   "cell_type": "markdown",
   "metadata": {},
   "source": [
    "Q7. Write the Python program to get a list, sorted in increasing order by\n",
    "the last element in each tuple from the given list of non-empty\n",
    "tuples?\n",
    "\n",
    "    Sample List - [ (2, 5), (1, 2), (4, 4), (2, 3), (2, 1) ]\n",
    "    Expected Result - [ (2, 1), (1, 2), (2, 3), (4, 4), (2, 5) ]"
   ]
  },
  {
   "cell_type": "code",
   "execution_count": 126,
   "metadata": {
    "scrolled": true
   },
   "outputs": [
    {
     "name": "stdout",
     "output_type": "stream",
     "text": [
      "[(2, 1), (1, 2), (2, 3), (4, 4), (2, 5)]\n"
     ]
    }
   ],
   "source": [
    "def l(n):\n",
    "    return n[-1]\n",
    "def sort_last(lists):\n",
    "    return sorted(lists,key = l)\n",
    "lists = [(2, 5), (1, 2), (4, 4), (2, 3), (2, 1)]\n",
    "print(sort_last(lists))"
   ]
  },
  {
   "cell_type": "code",
   "execution_count": 133,
   "metadata": {},
   "outputs": [
    {
     "name": "stdout",
     "output_type": "stream",
     "text": [
      "[(2, 1), (1, 2), (2, 3), (4, 4), (2, 5)]\n"
     ]
    }
   ],
   "source": [
    "def sort_last(lists):\n",
    "    return sorted(lists,key = l)\n",
    "lists = [(2, 5), (1, 2), (4, 4), (2, 3), (2, 1)]\n",
    "print(sort_last(lists))"
   ]
  },
  {
   "cell_type": "markdown",
   "metadata": {},
   "source": [
    "Q8. Write the Python program to remove duplicates from a list?"
   ]
  },
  {
   "cell_type": "code",
   "execution_count": 69,
   "metadata": {},
   "outputs": [
    {
     "name": "stdout",
     "output_type": "stream",
     "text": [
      "[2, 1, 3, 4]\n"
     ]
    }
   ],
   "source": [
    "l = [2,1,3,3,4,2]\n",
    "a = []\n",
    "for i in l:\n",
    "    if i in a:\n",
    "        continue\n",
    "    else:\n",
    "        a.append(i)\n",
    "print(a)"
   ]
  },
  {
   "cell_type": "markdown",
   "metadata": {},
   "source": [
    "Q9. Write the Python program to find the list of words that are longer\n",
    "than n from a given list of words?"
   ]
  },
  {
   "cell_type": "code",
   "execution_count": 112,
   "metadata": {},
   "outputs": [
    {
     "name": "stdout",
     "output_type": "stream",
     "text": [
      "enter minimum length of word \n",
      "4\n",
      "['Greeniee', 'Whiten', 'Yellow']\n"
     ]
    }
   ],
   "source": [
    "word = ['Re', 'Greeniee', 'Whiten', 'Blac', 'Pink', 'Yellow']\n",
    "n = int(input('enter minimum length of word \\n'))\n",
    "res = []\n",
    "for i in word:\n",
    "    if len(i) > n:\n",
    "        res.append(i)\n",
    "    else:\n",
    "        continue\n",
    "print(res)"
   ]
  },
  {
   "cell_type": "markdown",
   "metadata": {},
   "source": [
    "Q10. Write the Python program to print a specified list after removing the\n",
    "0th, 4th, and 5th elements?\n",
    "    \n",
    "    Sample List - ['Red', 'Green', 'White', 'Black', 'Pink', 'Yellow']\n",
    "    Expected Output - ['Green', 'White', 'Black']"
   ]
  },
  {
   "cell_type": "code",
   "execution_count": 8,
   "metadata": {},
   "outputs": [
    {
     "name": "stdout",
     "output_type": "stream",
     "text": [
      "['Red', 'Green', 'White', 'Black', 'Pink', 'Yellow']\n"
     ]
    }
   ],
   "source": [
    "words =  ['Red', 'Green', 'White', 'Black', 'Pink', 'Yellow']\n",
    "a = [0,4,5]\n",
    "res = []\n",
    "for i in words:\n",
    "    if i not in a.index(:\n",
    "        res.append(i)\n",
    "print(res)"
   ]
  },
  {
   "cell_type": "code",
   "execution_count": 19,
   "metadata": {},
   "outputs": [
    {
     "name": "stdout",
     "output_type": "stream",
     "text": [
      "['Green', 'White', 'Black']\n"
     ]
    }
   ],
   "source": [
    "words =  ['Red', 'Green', 'White', 'Black', 'Pink', 'Yellow']\n",
    "a = [1,2,3]\n",
    "res = []\n",
    "for i in words:\n",
    "    for j in a:\n",
    "        if words.index(i) == j:\n",
    "            res.append(i)\n",
    "print(res)"
   ]
  },
  {
   "cell_type": "markdown",
   "metadata": {},
   "source": [
    "Q11. Write the Python program to generate all permutations of a list in\n",
    "Python?"
   ]
  },
  {
   "cell_type": "code",
   "execution_count": 98,
   "metadata": {},
   "outputs": [
    {
     "data": {
      "text/plain": [
       "<generator object all_perms at 0x7f06e02d9ed0>"
      ]
     },
     "execution_count": 98,
     "metadata": {},
     "output_type": "execute_result"
    }
   ],
   "source": [
    "def all_perms(elements):\n",
    "    if len(elements) <=1:\n",
    "        yield elements\n",
    "    else:\n",
    "        for perm in all_perms(elements[1:]):\n",
    "            for i in range(len(elements)):\n",
    "                yield perm[:i] + elements[0:1] + perm[i:]\n",
    "all_perms([1,2,3,4,5])\n",
    "\n",
    "for i in per[:1]:\n",
    "    "
   ]
  },
  {
   "cell_type": "code",
   "execution_count": 100,
   "metadata": {},
   "outputs": [
    {
     "name": "stdout",
     "output_type": "stream",
     "text": [
      "[(1, 2, 3), (1, 3, 2), (2, 1, 3), (2, 3, 1), (3, 1, 2), (3, 2, 1)]\n"
     ]
    }
   ],
   "source": [
    "import itertools\n",
    "print(list(itertools.permutations([1,2,3])))"
   ]
  },
  {
   "cell_type": "markdown",
   "metadata": {},
   "source": [
    "Q12. Write the Python program to convert a pair of values into a sorted\n",
    "unique array?\n",
    " \n",
    "    Original List- [ (1, 2), (3, 4), (1, 2), (5, 6), (7, 8), (1, 2), (3, 4), (3, 4), (7, 8), (9, 10) ]\n",
    "    Sorted Unique Data- [ 1, 2, 3, 4, 5, 6, 7, 8, 9, 10 ] \n"
   ]
  },
  {
   "cell_type": "code",
   "execution_count": 94,
   "metadata": {},
   "outputs": [
    {
     "name": "stdout",
     "output_type": "stream",
     "text": [
      "[1, 2, 3, 4, 5, 6, 7, 8, 9, 10]\n"
     ]
    }
   ],
   "source": [
    "lists = [ (1, 2), (3, 4), (1, 2), (5, 6), (7, 8), (1, 2), (3, 4), (3, 4), (7, 8), (9, 10) ]\n",
    "a = list(set(lists))\n",
    "a.sort()\n",
    "l = [j for i in a for j in i]\n",
    "print(l)"
   ]
  },
  {
   "cell_type": "markdown",
   "metadata": {},
   "source": [
    "## Great job!"
   ]
  }
 ],
 "metadata": {
  "kernelspec": {
   "display_name": "Python 3",
   "language": "python",
   "name": "python3"
  },
  "language_info": {
   "codemirror_mode": {
    "name": "ipython",
    "version": 3
   },
   "file_extension": ".py",
   "mimetype": "text/x-python",
   "name": "python",
   "nbconvert_exporter": "python",
   "pygments_lexer": "ipython3",
   "version": "3.7.4"
  }
 },
 "nbformat": 4,
 "nbformat_minor": 2
}
